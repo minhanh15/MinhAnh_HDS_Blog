{
  "cells": [
    {
      "cell_type": "markdown",
      "metadata": {
        "id": "view-in-github",
        "colab_type": "text"
      },
      "source": [
        "<a href=\"https://colab.research.google.com/github/minhanh15/MinhAnh_HDS_Blog/blob/main/FA_NamesSurnames.ipynb\" target=\"_parent\"><img src=\"https://colab.research.google.com/assets/colab-badge.svg\" alt=\"Open In Colab\"/></a>"
      ]
    },
    {
      "cell_type": "markdown",
      "metadata": {
        "id": "1GNrOr-WiKQW"
      },
      "source": [
        "![alt text](https://drive.google.com/uc?export=view&id=1DXUVHxd4t15mfuqMgMCLnsP4jWVI5EWz)\n",
        "\n",
        "---\n",
        "\n",
        "<br>\n",
        "© 2023 Copyright The University of New South Wales - CRICOS 00098G\n",
        "\n",
        "**Authors**: Oscar Perez-Concha.\n",
        "\n",
        "**Communications**: If you have any questions, please email Oscar at: o.perezconcha@unsw.edu.au"
      ]
    },
    {
      "cell_type": "markdown",
      "source": [
        "# Final Assignment (FA)"
      ],
      "metadata": {
        "id": "N6T0wwT_GozJ"
      }
    },
    {
      "cell_type": "markdown",
      "source": [
        "\n",
        "\n",
        "---\n",
        "\n"
      ],
      "metadata": {
        "id": "R1skKevpG0jB"
      }
    },
    {
      "cell_type": "markdown",
      "source": [],
      "metadata": {
        "id": "QmhnQ1KbGY0B"
      }
    },
    {
      "cell_type": "markdown",
      "metadata": {
        "id": "fN4p9w5eiKQY"
      },
      "source": [
        "#####################################################################################\n",
        "\n",
        "Double-click to write down your name and surname.\n",
        "\n",
        "**Name 1 and Surname 1:** Minh Anh Vu\n",
        "\n",
        "**Honour Pledge** <p>\n",
        "    \n",
        "Declaration: <p>\n",
        "    \n",
        "    \n",
        "I declare that this assessment item is my own work, except where acknowledged, and has not been submitted for academic credit elsewhere or previously, or produced independently of this course (e.g. for a third party such as your place of employment) and acknowledge that the assessor of this item may, for the purpose of assessing this item:\n",
        "\n",
        "1. Reproduce this assessment item and provide a copy to another member of the University; and/or\n",
        "\n",
        "2. Communicate a copy of this assessment item to a plagiarism checking service (which may then retain a copy of the assessment item on its database for the purpose of future plagiarism checking).\n",
        "\n",
        "**By writing you name and surname above, you certify that you have read and agreed to the honour pledge.**\n",
        "\n",
        "#####################################################################################"
      ]
    },
    {
      "cell_type": "markdown",
      "source": [
        "#####################################################################################\n",
        "\n",
        "Double-click to write down your name and surname.\n",
        "\n",
        "**Name 2 and Surname 2:** Siphiwe Ratladi\n",
        "\n",
        "**Honour Pledge** <p>\n",
        "    \n",
        "    \n",
        "Declaration: <p>\n",
        "    \n",
        "    \n",
        "I declare that this assessment item is my own work, except where acknowledged, and has not been submitted for academic credit elsewhere or previously, or produced independently of this course (e.g. for a third party such as your place of employment) and acknowledge that the assessor of this item may, for the purpose of assessing this item:\n",
        "\n",
        "1. Reproduce this assessment item and provide a copy to another member of the University; and/or\n",
        "\n",
        "2. Communicate a copy of this assessment item to a plagiarism checking service (which may then retain a copy of the assessment item on its database for the purpose of future plagiarism checking).\n",
        "\n",
        "**By wrting you name and surname above, you certify that you have read and agreed to the honour pledge.**\n",
        "\n",
        "#####################################################################################"
      ],
      "metadata": {
        "id": "7EORMEMxuhJS"
      }
    },
    {
      "cell_type": "markdown",
      "source": [
        "---\n",
        "# 1.  Health Data Science Scenario\n",
        "\n",
        "## 1.1. Research Question\n",
        "\n",
        "Our hospital has been very proactive in analysing data from its Electronic Medical Records (EMR). Through this analysis, we've made some interesting discoveries.\n",
        "\n",
        "We identified that readmitted patients are not only those who were sicker during their first admission but also those with less support after discharge or those without medical follow-up post-discharge.\n",
        "Readmitted patients experienced high levels of emotional stress.\n",
        "Readmitted patients were at a significantly higher risk of acquiring new infections while in the hospital.\n",
        "Readmissions are highly costly. Patients who were readmitted for the reasons mentioned above tended to be sicker than during their first admission, and their length of stay was significantly longer than during their first admission."
      ],
      "metadata": {
        "id": "hvLpFjsB9PYz"
      }
    },
    {
      "cell_type": "markdown",
      "source": [
        "Our hospital has implemented a pilot program named \"Redesigning Discharge,\" which involves a \"specialised unit\" that coordinates patients' discharges. This pilot program has been running for a year.\n",
        "\n",
        "This \"specialised unit\" is composed of a team of doctors, nurses, physiotherapists, and occupational therapists.\n",
        "\n",
        "The program consists of two main innovations.\n",
        "\n",
        "1. In the first part of the program, the doctors conduct a new discharge assessment protocol using innovative evidence-based tools to help them decide whether patients are ready to return to their usual place of residence or if it would be more advisable to transfer them to an intermediate or short-term care facility. As such, this program is set to replace the previous protocol concerning where patients should be discharged.\n",
        "\n",
        "2. The second part of the program includes a group of nurses, physiotherapists, and occupational therapists who visit patients at home or in the intermediate facility after discharge. The frequency of these visits is determined by an assessment conducted prior to discharge, averaging about five visits per patient. Among other things, the team's tasks include ensuring proper wound healing, checking medication compliance, coordinating with a general practitioner or the medical team at the intermediate facility, and assessing the patient's ability to perform basic daily activities such as navigating their environment, using the toilet, and showering. Furthermore, the specialised unit maintains regular telephone contact with patients to check on their well-being. Patients are also encouraged to reach out to the unit if they need any assistance.\n",
        "\n",
        "This pilot program has been very successful and it has been welcomed by all the stakeholders. Among other things, the program has significantly reduced the number of hospital readmissions. Moreover, the operating costs for this specialised unit have proven to be considerably lower than the costs associated with readmissions"
      ],
      "metadata": {
        "id": "zXDNhvVF9gAL"
      }
    },
    {
      "cell_type": "markdown",
      "source": [
        "In terms of budget:\n",
        "\n",
        "1. The average cost of a day in the hospital is 6,000 dollars; readmitted patients tend to stay for an average of 4 days.\n",
        "\n",
        "2. An intervention by the specialised unit costs on average 2,000 dollars, which includes the cost of the average number of visits per patient, being 5 visits.\n",
        "\n",
        "3. The cost of an intermediate facility is not considered, as it's covered by Private Health Insurance or other Government Schemes. Additionally, our program is effectively 'donating' a team of medical professionals to these facilities. Therefore, we do not need to account for the cost of these intermediate facilities if a patient is discharged there.\n",
        "\n",
        "Our hospital is now prepared to implement \"Redesigning Discharge\" and extend the specialized unit service to all patients at risk of readmission. The challenge we face, however, is that we cannot predict in advance which patients are at risk of readmission. As such, we are currently unable to identify the specific patients we should be targeting"
      ],
      "metadata": {
        "id": "M1cJxrpO9sAH"
      }
    },
    {
      "cell_type": "markdown",
      "source": [
        "Our research aims to address the following questions:\n",
        "\n",
        "1. Can we develop a machine learning algorithm that can predict the probability of a patient's readmission within 30 days before their discharge?\n",
        "\n",
        "2. How can we effectively communicate the performance and benefits of this algorithm to the hospital managers, enabling them to make an informed decision about its implementation?\n",
        "\n",
        "The main challenge we face is not only the development of an effective predictive algorithm, but also explaining its complexities in a clear, digestible manner for non-technical decision-makers."
      ],
      "metadata": {
        "id": "PlVCjmaWCpzF"
      }
    },
    {
      "cell_type": "markdown",
      "source": [
        "\n",
        "\n",
        "---\n",
        "\n"
      ],
      "metadata": {
        "id": "k_dDoHDsl9X2"
      }
    },
    {
      "cell_type": "markdown",
      "source": [
        "## 1.2. Instructions\n",
        "\n",
        "1.  We aim to develop a predictive model to forecast hospital readmissions within 30 days of discharge.\n",
        "\n",
        "> Consider the next points:\n",
        "\n",
        "> The predictive model will be run prior to discharge, and before a decision has been made regarding the need for the specialized unit or the place of discharge.\n",
        "\n",
        "> This forecast will primarly aid doctors and other clinicians in making a final decision about whether a patient will need the \"specialised unit\" or not.\n",
        "\n",
        "> In addition, as part of the new protocol, this forecast will also help decide whether the patient should return to their usual place of residence or be transferred to an intermediate facility. This new protocol is set to replace the previous one concerning where patients should be discharged.\n",
        "\n",
        "> We plan to use historical data from the hospital for this purpose. Unfortunately, the historical data with which we have been provided doesn't include any record of the pilot study that ran for a year, which could have assisted in training our model.\n",
        "\n",
        "\n",
        "2. Review the research questions and make the appropriate decisions for building this predictive model, in accordance with the research question text.\n",
        "\n",
        "\n",
        "3.   Thoroughly review and study the data provided. Please pay close attention to the data dictionary (PDF inside the data folder) and revisit the plots and graphs created during weeks 1, 2, and 3.\n",
        "\n",
        "4. Given that the hospital has already provided the data, we'll bypass the following steps in the health data science workflow (refer to the image below): Step 3 and substeps 3a,3b,3c,3d,3e: Data Gathering.\n",
        "\n",
        "5. In Step 4, substep 4a (Data visualization), visualize the data in your drafts, but do not include the graphs in your final submission.\n",
        "\n",
        "6. The hospital aims to capture as many \"readmissions\" as possible (true positives), even if this moderately increases the number of false positives within reason (i.e., patients not at risk of readmission classified as such). However, be mindful that the hospital does not have unlimited resources. An excessive number of patients identified as at-risk could inflate the operational costs of the \"specialised unit\" beyond sustainable levels.\n",
        "\n",
        "7. The data scientists at the hospital have asked that you only consider the Logistic Regression and Random Forest machine learning techniques.\n",
        "\n",
        "8. Design various machine learning algorithms with different hyperparameters. Select one and provide a rationale for your choice.\n",
        "\n",
        "9. Use the classification_report and confusion matrix metrics for model evaluation. If you use other metrics such as the ROC curve, do not include them in your final submission.\n",
        "\n",
        "10. Justification for your decisions is crucial. Provide a one or two sentence explanation for each section preceding the relevant Python code block. You are encouraged to use \"Sanity Checks\" during the construction of the algorithms. Please do not include them in your final submission.\n",
        "\n",
        "11. Ensure clear labels for printed results and briefly detail the steps followed.\n",
        "\n",
        "12. Remember to comment and document your code thoroughly, as this will likely serve as a foundation for team-based algorithm development in the future.\n",
        "\n",
        "13. Format: Jupyter Notebook.\n",
        "\n",
        "14. Programming Language: Python.\n",
        "\n",
        "15. Submission: Upload the Jupyter Notebook to the designated section in OpenLearning and on your GitHub space. Submissions will close precisely at the deadline.\n",
        "\n",
        "16. Only submit the final version of your document.\n",
        "\n",
        "17. Include your first and last names in the document's title. For example: Final-Assignment-AnnXu-MichaelRoss.ipynb\n",
        "\n",
        "18. Each question is worth 1 mark, except question 8, which is worth 2 marks.\n",
        "\n",
        "19. Marks will be deducted for failure to follow the previous instructions.\n",
        "\n",
        "20. Refer to the provided [rubric](https://unsw-my.sharepoint.com/:w:/g/personal/z3368601_ad_unsw_edu_au/EYaMoVWZ20hFoj9R8hL2PIIB4-ACN6c4bf4uCI66gzpEqA?e=tUJZiB).\n",
        "\n"
      ],
      "metadata": {
        "id": "CI9JCYKb-6tz"
      }
    },
    {
      "cell_type": "markdown",
      "source": [
        "![alt text](https://drive.google.com/uc?export=view&id=105SGqeyo8RgLhSO8mN7ZE5OsG0YiLPKt)"
      ],
      "metadata": {
        "id": "9wK1oQbhq5hX"
      }
    },
    {
      "cell_type": "markdown",
      "source": [
        "## 1.3. Late Submission Penalty\n",
        "\n",
        "UNSW has a [standard](https://www.unsw.edu.au/arts-design-architecture/student-life/resources-support/protocols-guidelines)  late submission penalty of:\n",
        "\n",
        "\n",
        "*   5% per day,\n",
        "*   for all assessments where a penalty applies,\n",
        "*   capped at five days (120 hours) from the assessment deadline, after which a student cannot submit an assessment,\n",
        "*   and no permitted variation.\n",
        "\n",
        "Students are expected to manage their time to meet deadlines and to request extensions as early as possible before the deadline."
      ],
      "metadata": {
        "id": "Z9Yo-Q0QKhSW"
      }
    },
    {
      "cell_type": "markdown",
      "source": [
        "## 1.4. Marks and Feedback\n",
        "\n",
        "Per UNSW's policy, the marks and feedback of this assignment will be released after UNSW releases the final marks."
      ],
      "metadata": {
        "id": "a_aTlwYkKynH"
      }
    },
    {
      "cell_type": "markdown",
      "source": [
        "\n",
        "\n",
        "---\n",
        "\n"
      ],
      "metadata": {
        "id": "3eE8VXdpl_I2"
      }
    },
    {
      "cell_type": "markdown",
      "source": [
        "## 1.5. Provided Python Code"
      ],
      "metadata": {
        "id": "2n7dR4_xLlk-"
      }
    },
    {
      "cell_type": "code",
      "execution_count": 1,
      "metadata": {
        "id": "skbhUSeQiKQa",
        "outputId": "416107e2-6257-4132-9a98-9677fd743dba",
        "colab": {
          "base_uri": "https://localhost:8080/"
        }
      },
      "outputs": [
        {
          "output_type": "stream",
          "name": "stdout",
          "text": [
            "Installing:  {'grid', 'shap'}\n"
          ]
        }
      ],
      "source": [
        "# check required libraries are installed if not calling system to install\n",
        "import sys\n",
        "import subprocess\n",
        "import pkg_resources\n",
        "\n",
        "required = {'numpy', 'pandas', 'plotnine', 'matplotlib', 'seaborn',\n",
        "            'grid', 'shap', 'scikit-learn'}\n",
        "installed = {pkg.key for pkg in pkg_resources.working_set}\n",
        "missing = required - installed\n",
        "\n",
        "if missing:\n",
        "    print('Installing: ', missing)\n",
        "    python = sys.executable\n",
        "    subprocess.check_call([python, '-m', 'pip', 'install', *missing], stdout=subprocess.DEVNULL)\n",
        "# delete unwanted variables\n",
        "del required\n",
        "del installed\n",
        "del missing"
      ]
    },
    {
      "cell_type": "code",
      "execution_count": 2,
      "metadata": {
        "id": "Y8p62DC4iKQb",
        "colab": {
          "base_uri": "https://localhost:8080/"
        },
        "outputId": "2120d8c4-5c32-4c37-a11f-07161a64c154"
      },
      "outputs": [
        {
          "output_type": "stream",
          "name": "stdout",
          "text": [
            "Mounted at /content/drive\n"
          ]
        }
      ],
      "source": [
        "# Mount Google Drive\n",
        "# We do not need to run this cell if you are not running this notebook in Google Colab\n",
        "\n",
        "if 'google.colab' in str(get_ipython()):\n",
        "    from google.colab import drive # import drive from Gogle colab\n",
        "    root = '/content/drive'     # default location for the drive\n",
        "    # print(root)                 # print content of ROOT (Optional)\n",
        "    drive.mount(root)\n",
        "else:\n",
        "    print('Not running on CoLab')"
      ]
    },
    {
      "cell_type": "markdown",
      "source": [
        "Change the project paths and the paths according to where you have placed your files:"
      ],
      "metadata": {
        "id": "T70EJU8pAzeY"
      }
    },
    {
      "cell_type": "code",
      "execution_count": 3,
      "metadata": {
        "id": "kRNGzaEjiKQc"
      },
      "outputs": [],
      "source": [
        "from pathlib import Path\n",
        "\n",
        "if 'google.colab' in str(get_ipython()):\n",
        "    # EDIT THE PROJECT PATH IF DIFFERENT WITH YOUR ONE\n",
        "    project_path = Path(root) / 'My Drive' /'HDS'/ 'HDAT9500' / 'final-assignment'\n",
        "\n",
        "    # OPTIONAL - set working directory according to your google drive project path\n",
        "    # import os\n",
        "    # Change directory to the location defined in project_path\n",
        "    # os.chdir(project_path)\n",
        "else:\n",
        "    project_path = Path()"
      ]
    },
    {
      "cell_type": "markdown",
      "source": [
        "\n",
        "\n",
        "---\n",
        "Function to plot the confusion matrix:\n"
      ],
      "metadata": {
        "id": "58McxBL6Angl"
      }
    },
    {
      "cell_type": "code",
      "source": [
        "def plot_confusion_matrix(confusion_matrix):\n",
        "  # visualise the confusion matrix\n",
        "  labels = ['No', 'Yes']\n",
        "  ax = plt.subplot()\n",
        "  sns.heatmap(confusion_matrix, annot = True, fmt = '.0f', ax = ax, cmap = 'viridis')\n",
        "\n",
        "  # labels, titles and ticks\n",
        "  ax.set_xlabel('Predicted labels')\n",
        "  ax.set_ylabel('True labels')\n",
        "  ax.set_title('Confusion Matrix')\n",
        "  ax.xaxis.set_ticklabels(labels)\n",
        "  ax.yaxis.set_ticklabels(labels)"
      ],
      "metadata": {
        "id": "ptWoRBD1os1T"
      },
      "execution_count": 4,
      "outputs": []
    },
    {
      "cell_type": "markdown",
      "source": [
        "\n",
        "\n",
        "---\n",
        "\n"
      ],
      "metadata": {
        "id": "ANok5FMeLs8Y"
      }
    },
    {
      "cell_type": "markdown",
      "source": [
        "List of libraries:"
      ],
      "metadata": {
        "id": "UN5QAVguLlE_"
      }
    },
    {
      "cell_type": "code",
      "source": [
        "# Question 2:\n",
        "import pickle\n",
        "import pandas as pd\n",
        "\n",
        "# Question 3:\n",
        "from sklearn.model_selection import train_test_split\n",
        "\n",
        "# Question 4:\n",
        "from sklearn.preprocessing import StandardScaler\n",
        "from sklearn.linear_model import LogisticRegression\n",
        "from sklearn.pipeline import Pipeline\n",
        "from sklearn.model_selection import GridSearchCV\n",
        "\n",
        "# Question 5 & 7:\n",
        "from sklearn.metrics import confusion_matrix\n",
        "from sklearn.metrics import classification_report\n",
        "from sklearn import metrics\n",
        "import seaborn as sns\n",
        "import matplotlib.pyplot as plt\n",
        "\n",
        "# Question 6:\n",
        "from sklearn.ensemble import RandomForestClassifier\n",
        "from sklearn.model_selection import GridSearchCV\n",
        "\n",
        "# Question 9:\n",
        "import shap\n",
        "\n"
      ],
      "metadata": {
        "id": "WtE6rHZULjyX",
        "outputId": "5536f00c-9208-4a7f-823a-df6481e63170",
        "colab": {
          "base_uri": "https://localhost:8080/"
        }
      },
      "execution_count": 5,
      "outputs": [
        {
          "output_type": "stream",
          "name": "stderr",
          "text": [
            "Using `tqdm.autonotebook.tqdm` in notebook mode. Use `tqdm.tqdm` instead to force console mode (e.g. in jupyter console)\n"
          ]
        }
      ]
    },
    {
      "cell_type": "markdown",
      "source": [
        "---\n",
        "# 2. Questions:"
      ],
      "metadata": {
        "id": "rixnC6G4Lvtu"
      }
    },
    {
      "cell_type": "markdown",
      "metadata": {
        "id": "IbpJocChpcTR"
      },
      "source": [
        "## Question 1: Docstring\n",
        "\n",
        "Create a docstring that includes the following:\n",
        "\n",
        "1. Purpose: The top-level aim of our program. (Please limit this to 50 words).\n",
        "2. Author(s)\n",
        "3. Dates\n",
        "4. List of Variables, Constants, and Functions: Describe how each one is used in the program. Ensure that you choose informative variable names and thoroughly document your program (both through docstrings and comments). When required, units should accompany the variables. The list of variables must be written in different sections: General, Question 1, Question 2, ..., Question 9. For the list of variables within each section, list the variables, constants, and functions in alphabetical order.\n",
        "5. Method: The \"Method\" section in a docstring typically refers to the approach or algorithm used in the program or function. Here, you would describe the sequence of operations or steps your code follows to accomplish its goal.\n",
        "\n",
        "Structure your docstring into distinct sections, with one section per point listed above.\n",
        "\n",
        "\n"
      ]
    },
    {
      "cell_type": "markdown",
      "metadata": {
        "id": "q2zvhr_epcTS"
      },
      "source": [
        "<b> 1. Purpose: The aim of our program:</b>\n",
        "\n",
        "To develop a machine learning algorithm that can predict the probability of a patient's readmission within 30 days before their discharge\n",
        "\n",
        "<b> 2. Author(s):</b> Minh Anh Vu, Siphiwe Ratladi\n",
        "\n",
        "<b> 3. Dates:</b> 24 July 2023\n",
        "\n",
        "<b> 4. List of variables and constants in alphabetical order:</b>\n",
        "\n",
        "---\n",
        "\n",
        "<b> General: </b>\n",
        "\n",
        "* `X_test`: Generated in question 3. This variable stores the feature matrix of the test set, containing the input data for evaluation after training the machine learning model\n",
        "* `X_train`: Generated in question 3. This variable stores the feature matrix of the training set, containing the input data on which the machine learning model will be trained\n",
        "* `y_test`: Generated in question 3. This variable stores the response variable of the test set, used for evaluating the model's performance on unseen data\n",
        "* `y_train`: Generated in question 3. This variable stores the response variable of the training set, used to train the machine learning model\n",
        "\n",
        "---\n",
        "<b> Question 1: </b> None\n",
        "\n",
        "---\n",
        "\n",
        "<b> Question 2: Read and prepare the data </b>\n",
        "* `hospital`: stores the dataset\n",
        "* `pickle_path`: stores the file path where pickle file located\n",
        "* `x`: stores the feature matrix or independent variables of the dataset\n",
        "* `y`: stores the response variable or dependent variable of the dataset.\n",
        "* `y_binary`: a binary version of the response variable y\n",
        "\n",
        "---\n",
        "\n",
        "<b> Question 3: Divide dataset into train set and test set </b>\n",
        "\n",
        "* `X_test`: stores the feature matrix of the test set, containing the input data for evaluation after training the machine learning model\n",
        "* `X_train`: stores the feature matrix of the training set, containing the input data on which the machine learning model will be trained\n",
        "* `y_test`: stores the response variable of the test set, used for evaluating the model's performance on unseen data\n",
        "* `y_train`: stores the response variable of the training set, used to train the machine learning model\n",
        "\n",
        "---\n",
        "\n",
        "<b> Question 4: Training, and hyper-parameter tuning of the Logistic Regression model.</b>\n",
        "\n",
        "* `log_reg`: represents the Logistic Regression model object\n",
        "* `LR_grid_search`: represents the GridSearchCV object used to perform hyper-parameter tuning for the Logistic Regression model\n",
        "* `LR_param_grid`: contains the hyperparameter grid for the Logistic Regression model, specifying the values to be searched during hyperparameter tuning\n",
        "* `pipeln`: represents a Pipeline object that defines the data preprocessing steps and the estimator\n",
        "* `standard_scaler`: represents the StandardScaler object used for standardizing the features in the dataset\n",
        "\n",
        "---\n",
        "\n",
        "<b> Question 5: Evaluation of the Logistic Regression: </b>\n",
        "\n",
        "* `confusion_LR_test`: confusion matrix derived from `y_test` and `y_test_pred_LR` for the logistic regression model `LR_grid_search` evaluated on the test set.\n",
        "* `confusion_LR_train`: confusion matrix derived from `y_train` and `y_train_pred_LR` for the logistic regression model `LR_grid_search` evaluated on the test set.\n",
        "* `y_test_pred_LR`: stores the predicted labels generated by the Logistic Regression model `LR_grid_search` for the test set\n",
        "* `y_train_pred_LR`: stores the predicted labels generated by the Logistic Regression model `LR_grid_search` for the training set\n",
        "\n",
        "---\n",
        "\n",
        "<b> Question 6: Training, and hyper-parameter tuning of the Random Forest Classifier </b>\n",
        "\n",
        "* `random_forest`: represents the Random Forest model object\n",
        "* `RF_grid_search`: represents the GridSearchCV object used to perform hyper-parameter tuning for the Random Forest model\n",
        "* `RF_param_grid`: contains the hyperparameter grid for the Random Forest model, specifying the values to be searched during hyperparameter tuning\n",
        "\n",
        "---\n",
        "\n",
        "<b> Question 7: Evaluation of the Random Forest Classifier: </b>\n",
        "\n",
        "* `confusion_RF_test`: confusion matrix derived from `y_test` and `y_test_pred_RF` for the Random Forest Classifier `RF_grid_search` evaluated on the test set.\n",
        "* `confusion_RF_train`: confusion matrix derived from `y_train` and `y_train_pred_RF` for the Random Forest Classifier `RF_grid_search` evaluated on the test set.\n",
        "* `y_test_pred_RF`: stores the predicted labels generated by the Random Forest model `RF_grid_search` for the test set\n",
        "* `y_train_pred_RF`: stores the predicted labels generated by the Random Forest model `RF_grid_search` for the training set\n",
        "\n",
        "---\n",
        "\n",
        "<b> Question 8: Choose model </b>\n",
        "\n",
        "* `average_cost_per_day`: stores constant value of average cost per day in hospital\n",
        "* `average_cost_of_intervention`: stores constant value of average cost for intervention by the specialist unit\n",
        "* `average_number_of_visits_per_patient`: stores constant value of average number of visits per patient\n",
        "* `average_length_of_stay`: stores constant value of average length of stay of readmitted patients\n",
        "* `cost_for_interventions`: cost for false negative with interventions\n",
        "* `cost_for_readmitted`: cost for false negative to readmission\n",
        "* `number_of_false_negative`: stores value of fasle negative in the confusion matrix of chosen model\n",
        "\n",
        "---\n",
        "\n",
        "<b> Question 9: Implement SHAP for the final model  </b>\n",
        "\n",
        "* `explainer`: represents a SHAP TreeExplainer object. The TreeExplainer is  used to compute SHAP values for the model's predictions.\n",
        "* `shap_values_test`: contains the SHAP values calculated for the training dataset (X_test) using the previously defined `explainer`.\n",
        "\n",
        "---\n",
        "\n",
        "<b> 5. Method: </b>\n",
        "\n",
        "* Data Splitting: The data is split into training and testing sets using `train_test_split`.\n",
        "* For Logistic Regression Model:\n",
        "  * A Logistic Regression model is created.\n",
        "  * The model is combined with the StandardScaler using a Pipeline.\n",
        "  * Hyperparameter tuning is performed using GridSearchCV to find the best combination of hyperparameters (C, class_weight, penalty) for the model based on F1 score.\n",
        "  * The best model is then trained on the training data.\n",
        "* For Random Forest Model:\n",
        "  * A Random Forest Classifier is defined.\n",
        "  * Hyperparameter tuning is performed using GridSearchCV to find the best combination of hyperparameters (n_estimators, class_weight, max_features, min_samples_split) for the model based on recall score.\n",
        "  * The best model is then trained on the training data.\n",
        "* Evaluation of Logistic Regression Model and Random Forest Model:\n",
        "  * Predictions are made on the training and testing data using the best Logistic Regression/Random Forest model.\n",
        "  * Confusion matrices are generated to evaluate the performance of the model on both the training and testing data.\n",
        "  * Classification reports are printed, showing precision, recall, accuracy, and F1 score for both the training and testing data.\n",
        "* SHAP values are used to interpret the feature importances of the final model."
      ]
    },
    {
      "cell_type": "markdown",
      "source": [
        "\n",
        "\n",
        "---\n",
        "\n"
      ],
      "metadata": {
        "id": "ew1S59Vj1l2m"
      }
    },
    {
      "cell_type": "markdown",
      "source": [
        "---\n",
        "## Question 2: Read and check the pickle file provided. Prepare the data so it can be used by the algorithms that you are going to create.\n",
        "---"
      ],
      "metadata": {
        "id": "DmqPFyIbnJci"
      }
    },
    {
      "cell_type": "markdown",
      "source": [
        "<b> Rationale: What are you doing to solve this question? - 75 word count limit:</b>\n",
        "\n",
        "\n",
        "################################################################################\n",
        "\n",
        "Firstly, the pickle.load function is used to load the dataset and store in the variable `hospital`. Secondly, the dataset is checked by inspecting first records, column names, missing data, and variable statistics. Thirdly, the columns `admission_id` and `patient_id` are dropped as they are irrelevant for predicting 'readmission'. Additionally, 8 variables related to discharge disposition are also dropped. The predicted model will be run prior to discharge so variables relate to this stage will not be available at that time. Finally, the dataset is divided into feature matrix (X) and outcome vector (y) with 'readmission' as the response variable. The outcome vector (y) is converted to binary format for model development and evaluation.\n",
        "\n",
        "\n",
        "################################################################################"
      ],
      "metadata": {
        "id": "1AogtSxHxEW5"
      }
    },
    {
      "cell_type": "code",
      "source": [
        "# Python code here (15 lines limit, 1 cell limit)\n",
        "pickle_path = project_path/'data'/'hospital_data_final_assignment.pickle'\n",
        "\n",
        "# Load dataset stored in pickle\n",
        "with open(pickle_path, 'rb') as data:\n",
        "    hospital = pickle.load(data)\n",
        "\n",
        "# Check the pickle file\n",
        "## View some first records\n",
        "hospital.head()\n",
        "hospital.shape #(69267, 72)\n",
        "\n",
        "## Print columns\n",
        "print(\"Features of hospital data:\", hospital.columns)\n",
        "\n",
        "## Check missing data\n",
        "### Total number of null records of our dataset\n",
        "print(\"Total number of null records: \", hospital.isnull().values.sum())\n",
        "\n",
        "### Null values of all our features\n",
        "print(hospital.isnull().sum())\n",
        "\n",
        "### Statistics of all the variables in our dataset\n",
        "hospital.describe(include='all')\n",
        "\n",
        "### Examine readmission variable (83% for No and 17% for Yes)\n",
        "pd.DataFrame(hospital['readmission'].value_counts())\n",
        "pd.DataFrame(hospital['readmission'].value_counts(normalize=True) * 100)\n",
        "\n",
        "# Prepare the data\n",
        "## Drop 'admission_id' and 'patient_id' (2 variables drop)\n",
        "hospital = hospital.drop(['admission_id', 'patient_id'], axis =1)\n",
        "\n",
        "## Drop `discharge_disposition` because the predictive model will run before the discharge (8 variables drop)\n",
        "hospital = hospital.drop(columns=hospital.columns[hospital.columns.str.startswith(\"discharge_disposition\")])\n",
        "\n",
        "## Dividing dataset in X and y (outcome)\n",
        "X = hospital.drop(axis=1, columns=['readmission'])\n",
        "y = hospital['readmission']\n",
        "\n",
        "## Binarise the response\n",
        "y_binary = [0 if x=='no' else 1 for x in y]"
      ],
      "metadata": {
        "id": "DJJoTVRw049e",
        "colab": {
          "base_uri": "https://localhost:8080/"
        },
        "outputId": "917d30aa-05b1-4894-fa0d-0d6137fa4bfe"
      },
      "execution_count": 6,
      "outputs": [
        {
          "output_type": "stream",
          "name": "stdout",
          "text": [
            "Features of hospital data: Index(['admission_id', 'patient_id', 'los', 'Age', 'number_diagnoses',\n",
            "       'num_lab_procedures', 'num_procedures', 'num_medications',\n",
            "       'number_emergency', 'number_inpatient', 'number_outpatient',\n",
            "       'sex_Female', 'sex_Male', 'max_glu_serum_>200', 'max_glu_serum_>300',\n",
            "       'max_glu_serum_None', 'max_glu_serum_Norm', 'A1Cresult_>7',\n",
            "       'A1Cresult_>8', 'A1Cresult_None', 'A1Cresult_Norm',\n",
            "       'group_name_1_Blood_&_immune', 'group_name_1_CNS',\n",
            "       'group_name_1_Cancer', 'group_name_1_Cardiac_&_circulatory',\n",
            "       'group_name_1_Digestive', 'group_name_1_Endocrine',\n",
            "       'group_name_1_Infectious', 'group_name_1_Mental_&_Substance',\n",
            "       'group_name_1_Other', 'group_name_1_Respiratory',\n",
            "       'group_name_2_Blood_&_immune', 'group_name_2_CNS',\n",
            "       'group_name_2_Cancer', 'group_name_2_Cardiac_&_circulatory',\n",
            "       'group_name_2_Digestive', 'group_name_2_Endocrine',\n",
            "       'group_name_2_Infectious', 'group_name_2_Mental_&_Substance',\n",
            "       'group_name_2_Other', 'group_name_2_Respiratory',\n",
            "       'group_name_3_Blood_&_immune', 'group_name_3_CNS',\n",
            "       'group_name_3_Cancer', 'group_name_3_Cardiac_&_circulatory',\n",
            "       'group_name_3_Digestive', 'group_name_3_Endocrine',\n",
            "       'group_name_3_Infectious', 'group_name_3_Mental_&_Substance',\n",
            "       'group_name_3_Other', 'group_name_3_Respiratory',\n",
            "       'discharge_disposition_grouped_Discharged to home',\n",
            "       'discharge_disposition_grouped_Home health service',\n",
            "       'discharge_disposition_grouped_Left AMA',\n",
            "       'discharge_disposition_grouped_Not available/Null',\n",
            "       'discharge_disposition_grouped_Other',\n",
            "       'discharge_disposition_grouped_Short term hospital',\n",
            "       'discharge_disposition_grouped_Transferred to ICF',\n",
            "       'discharge_disposition_grouped_Transferred to SNF',\n",
            "       'admission_source_grouped_Clinic Referral',\n",
            "       'admission_source_grouped_Emergency Room',\n",
            "       'admission_source_grouped_Not available/Null',\n",
            "       'admission_source_grouped_Other',\n",
            "       'admission_source_grouped_Physician Referral',\n",
            "       'admission_source_grouped_Transfer from SNF',\n",
            "       'admission_source_grouped_Transfer from another health care facility',\n",
            "       'admission_type_grouped_Elective', 'admission_type_grouped_Emergency',\n",
            "       'admission_type_grouped_Not Available/Null',\n",
            "       'admission_type_grouped_Trauma Centre', 'admission_type_grouped_Urgent',\n",
            "       'readmission'],\n",
            "      dtype='object')\n",
            "Total number of null records:  0\n",
            "admission_id                                 0\n",
            "patient_id                                   0\n",
            "los                                          0\n",
            "Age                                          0\n",
            "number_diagnoses                             0\n",
            "                                            ..\n",
            "admission_type_grouped_Emergency             0\n",
            "admission_type_grouped_Not Available/Null    0\n",
            "admission_type_grouped_Trauma Centre         0\n",
            "admission_type_grouped_Urgent                0\n",
            "readmission                                  0\n",
            "Length: 72, dtype: int64\n"
          ]
        }
      ]
    },
    {
      "cell_type": "markdown",
      "source": [
        "---"
      ],
      "metadata": {
        "id": "1gsmCMIJ9oQ5"
      }
    },
    {
      "cell_type": "markdown",
      "source": [
        "---\n",
        "## Question 3: Divide the data into 80% for training and 20% for testing, using a random seed of 30. Set the other hyperparameters as you deem appropriate.\n",
        "---\n"
      ],
      "metadata": {
        "id": "PRlUipB2-nMX"
      }
    },
    {
      "cell_type": "markdown",
      "source": [
        "<b> Rationale: What are you doing to solve this question?- 75 word count limit:</b>\n",
        "\n",
        "\n",
        "################################################################################\n",
        "\n",
        "The dataset is divided into training and testing sets using the train_test_split function from sklearn.model_selection. It splits the feature matrix (X) and the binary-encoded outcome vector (y_binary) into 80% training data (X_train and y_train) and 20% testing data (X_test and y_test) by setting test_size to 0.2. The stratify parameter ensures that the class distribution in the response variable 'readmission' is maintained in both training and testing sets. The random seed of 30 ensures reproducibility of the split.\n",
        "\n",
        "################################################################################"
      ],
      "metadata": {
        "id": "7HjTXSR6-4cR"
      }
    },
    {
      "cell_type": "code",
      "source": [
        "# Python code here (2 lines limit, and 1 cell limit)\n",
        "X_train, X_test, y_train, y_test = train_test_split(X, y_binary, stratify = y, test_size = 0.20, random_state = 30 )"
      ],
      "metadata": {
        "id": "5LeXrTXc-4cR"
      },
      "execution_count": 7,
      "outputs": []
    },
    {
      "cell_type": "markdown",
      "source": [
        "\n",
        "\n",
        "---\n",
        "\n"
      ],
      "metadata": {
        "id": "ZcRSCX5s1kPR"
      }
    },
    {
      "cell_type": "markdown",
      "source": [
        "---\n",
        "## Question 4: Train and tune the hyperparameters of the Logistic Regression model.\n",
        "\n",
        "Hyper-parameters:\n",
        "\n",
        "- `C` values: 10, 100.\n",
        "- `class_weight`: only two pairs. Choose one of these two combinations and explain why.\n",
        "\n",
        "    * A weight of (80% for class 1, 20% for class 0) and (70% for class 1, 30% for class 0)\n",
        "    * A weight of (80% for class 0, 20% for class 1) and (70% for class 0, 30% for class 1).\n",
        "\n",
        "- `penalty` values: elasticnet, None\n",
        "- 3-fold cross-validation for the grid search.\n",
        "- `f1` as the score to choose the best model in the grid search.\n",
        "- `n_jobs`=-1.\n",
        "- do not include the heatmaps in the final submission.\n",
        "- do not change these hyper-parameters.\n",
        "- keep the remaining set of hyper-parameters in the default state.\n",
        "---\n"
      ],
      "metadata": {
        "id": "b3v2JXmp1o5W"
      }
    },
    {
      "cell_type": "markdown",
      "source": [
        "<b> Rationale: What are you doing to solve this question?-100 word count limit:</b>\n",
        "\n",
        "\n",
        "################################################################################\n",
        "\n",
        "We will perform grid search with 3-fold cross-validation to train and tune the Logistic Regression model. The hyperparameters C, class_weight, and penalty will be optimized, and the model with the highest F1 score will be selected. Considering the imbalanced dataset (83% class 0, 17% class 1), we choose class weights (80% for class 1, 20% for class 0) and (70% for class 1, 30% for class 0) to enhance sensitivity for class 1 predictions. We add solver='saga' and max_iter=400 to the model to support `elasticnet` penalty and ensure convergence. With l1_ratio=0.8, we'll prioritize L1 (Lasso) regularization to eliminate unimportant features, improving model interpretability and performance. The random seed of 30 ensures reproducibility.\n",
        "\n",
        "\n",
        "################################################################################"
      ],
      "metadata": {
        "id": "p845NQAlAY-U"
      }
    },
    {
      "cell_type": "code",
      "source": [
        "# Python code here (15 lines limit, and 2 cells limit)\n",
        "# Scaler object\n",
        "standard_scaler = StandardScaler()\n",
        "\n",
        "# Classificaton model\n",
        "log_reg = LogisticRegression(solver='saga', max_iter = 400, l1_ratio=0.8, random_state = 30)\n",
        "\n",
        "# Pipeline\n",
        "pipeln = Pipeline([('Transform', standard_scaler), ('Estimator', log_reg)])\n",
        "\n",
        "# Define the param_grid\n",
        "LR_param_grid = {\n",
        "    'Estimator__C': [10, 100],\n",
        "    'Estimator__class_weight': [\n",
        "        {0: 0.2, 1: 0.8},\n",
        "        {0: 0.3, 1: 0.7}\n",
        "    ],\n",
        "    'Estimator__penalty': ['elasticnet', None]\n",
        "}\n",
        "\n",
        "# Define gridsearch object\n",
        "LR_grid_search = GridSearchCV(pipeln, LR_param_grid, cv = 3, n_jobs = -1, scoring='f1')\n",
        "\n",
        "# Fit the model\n",
        "LR_grid_search.fit(X_train, y_train)"
      ],
      "metadata": {
        "colab": {
          "base_uri": "https://localhost:8080/",
          "height": 151
        },
        "id": "HnVh23zL33Zd",
        "outputId": "b23bedb0-169d-4c38-9f18-8940e32903f5"
      },
      "execution_count": 8,
      "outputs": [
        {
          "output_type": "execute_result",
          "data": {
            "text/plain": [
              "GridSearchCV(cv=3,\n",
              "             estimator=Pipeline(steps=[('Transform', StandardScaler()),\n",
              "                                       ('Estimator',\n",
              "                                        LogisticRegression(l1_ratio=0.8,\n",
              "                                                           max_iter=400,\n",
              "                                                           random_state=30,\n",
              "                                                           solver='saga'))]),\n",
              "             n_jobs=-1,\n",
              "             param_grid={'Estimator__C': [10, 100],\n",
              "                         'Estimator__class_weight': [{0: 0.2, 1: 0.8},\n",
              "                                                     {0: 0.3, 1: 0.7}],\n",
              "                         'Estimator__penalty': ['elasticnet', None]},\n",
              "             scoring='f1')"
            ],
            "text/html": [
              "<style>#sk-container-id-1 {color: black;background-color: white;}#sk-container-id-1 pre{padding: 0;}#sk-container-id-1 div.sk-toggleable {background-color: white;}#sk-container-id-1 label.sk-toggleable__label {cursor: pointer;display: block;width: 100%;margin-bottom: 0;padding: 0.3em;box-sizing: border-box;text-align: center;}#sk-container-id-1 label.sk-toggleable__label-arrow:before {content: \"▸\";float: left;margin-right: 0.25em;color: #696969;}#sk-container-id-1 label.sk-toggleable__label-arrow:hover:before {color: black;}#sk-container-id-1 div.sk-estimator:hover label.sk-toggleable__label-arrow:before {color: black;}#sk-container-id-1 div.sk-toggleable__content {max-height: 0;max-width: 0;overflow: hidden;text-align: left;background-color: #f0f8ff;}#sk-container-id-1 div.sk-toggleable__content pre {margin: 0.2em;color: black;border-radius: 0.25em;background-color: #f0f8ff;}#sk-container-id-1 input.sk-toggleable__control:checked~div.sk-toggleable__content {max-height: 200px;max-width: 100%;overflow: auto;}#sk-container-id-1 input.sk-toggleable__control:checked~label.sk-toggleable__label-arrow:before {content: \"▾\";}#sk-container-id-1 div.sk-estimator input.sk-toggleable__control:checked~label.sk-toggleable__label {background-color: #d4ebff;}#sk-container-id-1 div.sk-label input.sk-toggleable__control:checked~label.sk-toggleable__label {background-color: #d4ebff;}#sk-container-id-1 input.sk-hidden--visually {border: 0;clip: rect(1px 1px 1px 1px);clip: rect(1px, 1px, 1px, 1px);height: 1px;margin: -1px;overflow: hidden;padding: 0;position: absolute;width: 1px;}#sk-container-id-1 div.sk-estimator {font-family: monospace;background-color: #f0f8ff;border: 1px dotted black;border-radius: 0.25em;box-sizing: border-box;margin-bottom: 0.5em;}#sk-container-id-1 div.sk-estimator:hover {background-color: #d4ebff;}#sk-container-id-1 div.sk-parallel-item::after {content: \"\";width: 100%;border-bottom: 1px solid gray;flex-grow: 1;}#sk-container-id-1 div.sk-label:hover label.sk-toggleable__label {background-color: #d4ebff;}#sk-container-id-1 div.sk-serial::before {content: \"\";position: absolute;border-left: 1px solid gray;box-sizing: border-box;top: 0;bottom: 0;left: 50%;z-index: 0;}#sk-container-id-1 div.sk-serial {display: flex;flex-direction: column;align-items: center;background-color: white;padding-right: 0.2em;padding-left: 0.2em;position: relative;}#sk-container-id-1 div.sk-item {position: relative;z-index: 1;}#sk-container-id-1 div.sk-parallel {display: flex;align-items: stretch;justify-content: center;background-color: white;position: relative;}#sk-container-id-1 div.sk-item::before, #sk-container-id-1 div.sk-parallel-item::before {content: \"\";position: absolute;border-left: 1px solid gray;box-sizing: border-box;top: 0;bottom: 0;left: 50%;z-index: -1;}#sk-container-id-1 div.sk-parallel-item {display: flex;flex-direction: column;z-index: 1;position: relative;background-color: white;}#sk-container-id-1 div.sk-parallel-item:first-child::after {align-self: flex-end;width: 50%;}#sk-container-id-1 div.sk-parallel-item:last-child::after {align-self: flex-start;width: 50%;}#sk-container-id-1 div.sk-parallel-item:only-child::after {width: 0;}#sk-container-id-1 div.sk-dashed-wrapped {border: 1px dashed gray;margin: 0 0.4em 0.5em 0.4em;box-sizing: border-box;padding-bottom: 0.4em;background-color: white;}#sk-container-id-1 div.sk-label label {font-family: monospace;font-weight: bold;display: inline-block;line-height: 1.2em;}#sk-container-id-1 div.sk-label-container {text-align: center;}#sk-container-id-1 div.sk-container {/* jupyter's `normalize.less` sets `[hidden] { display: none; }` but bootstrap.min.css set `[hidden] { display: none !important; }` so we also need the `!important` here to be able to override the default hidden behavior on the sphinx rendered scikit-learn.org. See: https://github.com/scikit-learn/scikit-learn/issues/21755 */display: inline-block !important;position: relative;}#sk-container-id-1 div.sk-text-repr-fallback {display: none;}</style><div id=\"sk-container-id-1\" class=\"sk-top-container\"><div class=\"sk-text-repr-fallback\"><pre>GridSearchCV(cv=3,\n",
              "             estimator=Pipeline(steps=[(&#x27;Transform&#x27;, StandardScaler()),\n",
              "                                       (&#x27;Estimator&#x27;,\n",
              "                                        LogisticRegression(l1_ratio=0.8,\n",
              "                                                           max_iter=400,\n",
              "                                                           random_state=30,\n",
              "                                                           solver=&#x27;saga&#x27;))]),\n",
              "             n_jobs=-1,\n",
              "             param_grid={&#x27;Estimator__C&#x27;: [10, 100],\n",
              "                         &#x27;Estimator__class_weight&#x27;: [{0: 0.2, 1: 0.8},\n",
              "                                                     {0: 0.3, 1: 0.7}],\n",
              "                         &#x27;Estimator__penalty&#x27;: [&#x27;elasticnet&#x27;, None]},\n",
              "             scoring=&#x27;f1&#x27;)</pre><b>In a Jupyter environment, please rerun this cell to show the HTML representation or trust the notebook. <br />On GitHub, the HTML representation is unable to render, please try loading this page with nbviewer.org.</b></div><div class=\"sk-container\" hidden><div class=\"sk-item sk-dashed-wrapped\"><div class=\"sk-label-container\"><div class=\"sk-label sk-toggleable\"><input class=\"sk-toggleable__control sk-hidden--visually\" id=\"sk-estimator-id-1\" type=\"checkbox\" ><label for=\"sk-estimator-id-1\" class=\"sk-toggleable__label sk-toggleable__label-arrow\">GridSearchCV</label><div class=\"sk-toggleable__content\"><pre>GridSearchCV(cv=3,\n",
              "             estimator=Pipeline(steps=[(&#x27;Transform&#x27;, StandardScaler()),\n",
              "                                       (&#x27;Estimator&#x27;,\n",
              "                                        LogisticRegression(l1_ratio=0.8,\n",
              "                                                           max_iter=400,\n",
              "                                                           random_state=30,\n",
              "                                                           solver=&#x27;saga&#x27;))]),\n",
              "             n_jobs=-1,\n",
              "             param_grid={&#x27;Estimator__C&#x27;: [10, 100],\n",
              "                         &#x27;Estimator__class_weight&#x27;: [{0: 0.2, 1: 0.8},\n",
              "                                                     {0: 0.3, 1: 0.7}],\n",
              "                         &#x27;Estimator__penalty&#x27;: [&#x27;elasticnet&#x27;, None]},\n",
              "             scoring=&#x27;f1&#x27;)</pre></div></div></div><div class=\"sk-parallel\"><div class=\"sk-parallel-item\"><div class=\"sk-item\"><div class=\"sk-label-container\"><div class=\"sk-label sk-toggleable\"><input class=\"sk-toggleable__control sk-hidden--visually\" id=\"sk-estimator-id-2\" type=\"checkbox\" ><label for=\"sk-estimator-id-2\" class=\"sk-toggleable__label sk-toggleable__label-arrow\">estimator: Pipeline</label><div class=\"sk-toggleable__content\"><pre>Pipeline(steps=[(&#x27;Transform&#x27;, StandardScaler()),\n",
              "                (&#x27;Estimator&#x27;,\n",
              "                 LogisticRegression(l1_ratio=0.8, max_iter=400, random_state=30,\n",
              "                                    solver=&#x27;saga&#x27;))])</pre></div></div></div><div class=\"sk-serial\"><div class=\"sk-item\"><div class=\"sk-serial\"><div class=\"sk-item\"><div class=\"sk-estimator sk-toggleable\"><input class=\"sk-toggleable__control sk-hidden--visually\" id=\"sk-estimator-id-3\" type=\"checkbox\" ><label for=\"sk-estimator-id-3\" class=\"sk-toggleable__label sk-toggleable__label-arrow\">StandardScaler</label><div class=\"sk-toggleable__content\"><pre>StandardScaler()</pre></div></div></div><div class=\"sk-item\"><div class=\"sk-estimator sk-toggleable\"><input class=\"sk-toggleable__control sk-hidden--visually\" id=\"sk-estimator-id-4\" type=\"checkbox\" ><label for=\"sk-estimator-id-4\" class=\"sk-toggleable__label sk-toggleable__label-arrow\">LogisticRegression</label><div class=\"sk-toggleable__content\"><pre>LogisticRegression(l1_ratio=0.8, max_iter=400, random_state=30, solver=&#x27;saga&#x27;)</pre></div></div></div></div></div></div></div></div></div></div></div></div>"
            ]
          },
          "metadata": {},
          "execution_count": 8
        }
      ]
    },
    {
      "cell_type": "code",
      "source": [
        "print(\"Best parameters: {}\".format(LR_grid_search.best_params_))\n",
        "print(\"Best cross-validation average f1 score: {:.3f}\".format(LR_grid_search.best_score_))"
      ],
      "metadata": {
        "colab": {
          "base_uri": "https://localhost:8080/"
        },
        "id": "NjhrZM6k-Qun",
        "outputId": "56225a29-6c27-46bb-eed1-63036af0720c"
      },
      "execution_count": 9,
      "outputs": [
        {
          "output_type": "stream",
          "name": "stdout",
          "text": [
            "Best parameters: {'Estimator__C': 10, 'Estimator__class_weight': {0: 0.3, 1: 0.7}, 'Estimator__penalty': 'elasticnet'}\n",
            "Best cross-validation average f1 score: 0.924\n"
          ]
        }
      ]
    },
    {
      "cell_type": "markdown",
      "source": [
        "\n",
        "\n",
        "---\n",
        "\n"
      ],
      "metadata": {
        "id": "98-HHV0DNkkC"
      }
    },
    {
      "cell_type": "markdown",
      "source": [
        "---\n",
        "## Question 5: Evaluate the Logistic Regression model on both the training and test sets. Use the `plot_confusion_matrix(confusion_matrix)` function provided above to display the results.\n",
        "---"
      ],
      "metadata": {
        "id": "y2BLfWf9NmWf"
      }
    },
    {
      "cell_type": "markdown",
      "source": [
        "<b> Rationale: Why are we evaluating the model in the training set? Why are we evaluating the model in the test set? What are you doing to solve this question?- 120 word count limit:</b>\n",
        "\n",
        "\n",
        "################################################################################\n",
        "\n",
        "The training set is the data that the model has been exposed to during the training process. Evaluating the model on the training set helps to assess how well the model has learned from the data. However, a high accuracy on the training set does not guarantee good performance on unseen data (test set) and may indicate potential overfitting. The test set is a separate set of data that the model has not seen during training. It helps to assess how well the model generalizes to new data. To evaluate the model, we'll make prediction on train and test set using the best model from grid search. Confusion matrices and classification report showing precision, recall, accuracy, and F1 score are used to assess the performance of the model.\n",
        "\n",
        "\n",
        "################################################################################"
      ],
      "metadata": {
        "id": "T0ZoopThNyaW"
      }
    },
    {
      "cell_type": "code",
      "source": [
        "# Python code here (10 lines limit, and 2 cells limit)\n",
        "# Generate predictions for train data based on the model with best parameters (based on accuracy)generated by GridSearchCV\n",
        "y_train_pred_LR = LR_grid_search.predict(X_train)\n",
        "\n",
        "# Generate confusion matrix for evaluation\n",
        "confusion_LR_train = confusion_matrix(y_train, y_train_pred_LR)\n",
        "\n",
        "# Visualising the confusion matrix:\n",
        "plot_confusion_matrix(confusion_LR_train)\n",
        "\n",
        "# Output results from precision, recall, accuracy and f1 score\n",
        "print(\"Classification Report - Training Set:\\n\", classification_report(y_train, y_train_pred_LR))\n",
        "\n"
      ],
      "metadata": {
        "id": "L1GEJ8kGNyaW",
        "colab": {
          "base_uri": "https://localhost:8080/",
          "height": 646
        },
        "outputId": "04990b72-a3bc-493a-db85-98d9b57fb7e8"
      },
      "execution_count": 10,
      "outputs": [
        {
          "output_type": "stream",
          "name": "stdout",
          "text": [
            "Classification Report - Training Set:\n",
            "               precision    recall  f1-score   support\n",
            "\n",
            "           0       0.99      0.98      0.98     45878\n",
            "           1       0.89      0.96      0.93      9535\n",
            "\n",
            "    accuracy                           0.97     55413\n",
            "   macro avg       0.94      0.97      0.95     55413\n",
            "weighted avg       0.97      0.97      0.97     55413\n",
            "\n"
          ]
        },
        {
          "output_type": "display_data",
          "data": {
            "text/plain": [
              "<Figure size 640x480 with 2 Axes>"
            ],
            "image/png": "[encoded data removed]"
          },
          "metadata": {}
        }
      ]
    },
    {
      "cell_type": "code",
      "source": [
        "# Generate predictions for test data based on the model with best parameters (based on accuracy)generated by GridSearchCV\n",
        "y_test_pred_LR = LR_grid_search.predict(X_test)\n",
        "\n",
        "# Generate confusion matrix for evaluation\n",
        "confusion_LR_test = confusion_matrix(y_test, y_test_pred_LR)\n",
        "\n",
        "# Visualising the confusion matrix:\n",
        "plot_confusion_matrix(confusion_LR_test)\n",
        "\n",
        "# Output results from precision, recall, accuracy and f1 score\n",
        "print(\"Classification Report - Test Set:\\n\", classification_report(y_test, y_test_pred_LR))\n"
      ],
      "metadata": {
        "colab": {
          "base_uri": "https://localhost:8080/",
          "height": 646
        },
        "id": "_ZpelEKOGY3C",
        "outputId": "413cf1ca-0f38-42a6-859b-00e566141f59"
      },
      "execution_count": 11,
      "outputs": [
        {
          "output_type": "stream",
          "name": "stdout",
          "text": [
            "Classification Report - Test Set:\n",
            "               precision    recall  f1-score   support\n",
            "\n",
            "           0       0.99      0.98      0.98     11470\n",
            "           1       0.89      0.96      0.92      2384\n",
            "\n",
            "    accuracy                           0.97     13854\n",
            "   macro avg       0.94      0.97      0.95     13854\n",
            "weighted avg       0.97      0.97      0.97     13854\n",
            "\n"
          ]
        },
        {
          "output_type": "display_data",
          "data": {
            "text/plain": [
              "<Figure size 640x480 with 2 Axes>"
            ],
            "image/png": "[encoded data removed]"
          },
          "metadata": {}
        }
      ]
    },
    {
      "cell_type": "markdown",
      "source": [
        "\n",
        "\n",
        "---\n",
        "\n"
      ],
      "metadata": {
        "id": "CTIi2cd1yugI"
      }
    },
    {
      "cell_type": "markdown",
      "source": [
        "---\n",
        "## Question 6: Train and tune the hyperparameters of the of the Random Forest model.  \n",
        "\n",
        "Fixed hyper-parameters (do not change the values of these hyper-parameters):\n",
        "\n",
        "- `n_estimators`: 125, 150\n",
        "- `class_weight`: Only two pairs. Choose one of these two combinations (either combination 1 or combination 2) and explain why.\n",
        "1. A weight of (80% for class 1, 20% for class 0) and (70% for class 1, 30% for class 0)\n",
        "2.  A weight of (80% for class 0, 20% for class 1) and (70% for class 0, 30% for class 1).\n",
        "- 3-fold cross-validation for the grid search.\n",
        "- Select the score to choose the best model in the grid search.\n",
        "- `n_jobs`=-1\n",
        "- do not include the heatmaps in the final submission\n",
        "\n",
        "Other hyper-parameters:\n",
        "\n",
        "- `max_features`: 20, 30\n",
        "- `min_samples_split`: 20, 25\n",
        "- you can change the previous hyper-parameters (`max_features` and `min_samples_split`) or add other hyper-parameters if you wish. An explanation must be given to why you made that decision.\n",
        "\n",
        "---\n"
      ],
      "metadata": {
        "id": "iTQtpo_8yvX3"
      }
    },
    {
      "cell_type": "markdown",
      "source": [
        "<b> Rationale: What are you doing to solve this question?-150 word count limit:</b>\n",
        "\n",
        "\n",
        "################################################################################\n",
        "\n",
        "To train and tune the hyperparameters of the Random Forest model, we'll perform a grid search using 3-fold cross-validation.The model with the highest recall score will be selected because we are more interested in correctly predicting all patients that will be readmittied within 30 days. The hyper-parameters to be tuned include n_estimators, class_weight, max_features, and min_samples_split. For class_weight, we choose the combination of a weight of (80% for class 1, 20% for class 0) and (70% for class 1, 30% for class 0) because the dataset is imbalanced, with 83% of the samples belonging to class 0 and only 17% belonging to class 1. With this combination, the model will be more sensitive and produce better predictions for class 1 samples. The random seed of 30 ensures reproducibility.\n",
        "\n",
        "\n",
        "################################################################################"
      ],
      "metadata": {
        "id": "fA5-7Qpe2SPC"
      }
    },
    {
      "cell_type": "code",
      "source": [
        "# Python code here (15 lines limit, and 2 cells limit)\n",
        "# Define the Random Forest model\n",
        "random_forest = RandomForestClassifier(random_state = 30)\n",
        "\n",
        "# Define the hyperparameters to tune\n",
        "RF_param_grid = {\n",
        "    'n_estimators': [125, 150],\n",
        "    'class_weight': [\n",
        "        {0: 0.2, 1: 0.8},\n",
        "        {0: 0.3, 1: 0.7}\n",
        "    ],\n",
        "    'max_features': [20, 30],\n",
        "    'min_samples_split': [20, 25]\n",
        "}\n",
        "\n",
        "# Define the GridSearchCV\n",
        "RF_grid_search = GridSearchCV(random_forest, param_grid=RF_param_grid, scoring='recall', cv = 3, n_jobs = -1)\n",
        "\n",
        "# Train the model with the grid search\n",
        "RF_grid_search.fit(X_train, y_train)\n"
      ],
      "metadata": {
        "id": "boe2OgEWU34H",
        "outputId": "1145fbd9-7d7a-42e0-8943-52f5c3cd20cd",
        "colab": {
          "base_uri": "https://localhost:8080/",
          "height": 117
        }
      },
      "execution_count": 12,
      "outputs": [
        {
          "output_type": "execute_result",
          "data": {
            "text/plain": [
              "GridSearchCV(cv=3, estimator=RandomForestClassifier(random_state=30), n_jobs=-1,\n",
              "             param_grid={'class_weight': [{0: 0.2, 1: 0.8}, {0: 0.3, 1: 0.7}],\n",
              "                         'max_features': [20, 30],\n",
              "                         'min_samples_split': [20, 25],\n",
              "                         'n_estimators': [125, 150]},\n",
              "             scoring='recall')"
            ],
            "text/html": [
              "<style>#sk-container-id-2 {color: black;background-color: white;}#sk-container-id-2 pre{padding: 0;}#sk-container-id-2 div.sk-toggleable {background-color: white;}#sk-container-id-2 label.sk-toggleable__label {cursor: pointer;display: block;width: 100%;margin-bottom: 0;padding: 0.3em;box-sizing: border-box;text-align: center;}#sk-container-id-2 label.sk-toggleable__label-arrow:before {content: \"▸\";float: left;margin-right: 0.25em;color: #696969;}#sk-container-id-2 label.sk-toggleable__label-arrow:hover:before {color: black;}#sk-container-id-2 div.sk-estimator:hover label.sk-toggleable__label-arrow:before {color: black;}#sk-container-id-2 div.sk-toggleable__content {max-height: 0;max-width: 0;overflow: hidden;text-align: left;background-color: #f0f8ff;}#sk-container-id-2 div.sk-toggleable__content pre {margin: 0.2em;color: black;border-radius: 0.25em;background-color: #f0f8ff;}#sk-container-id-2 input.sk-toggleable__control:checked~div.sk-toggleable__content {max-height: 200px;max-width: 100%;overflow: auto;}#sk-container-id-2 input.sk-toggleable__control:checked~label.sk-toggleable__label-arrow:before {content: \"▾\";}#sk-container-id-2 div.sk-estimator input.sk-toggleable__control:checked~label.sk-toggleable__label {background-color: #d4ebff;}#sk-container-id-2 div.sk-label input.sk-toggleable__control:checked~label.sk-toggleable__label {background-color: #d4ebff;}#sk-container-id-2 input.sk-hidden--visually {border: 0;clip: rect(1px 1px 1px 1px);clip: rect(1px, 1px, 1px, 1px);height: 1px;margin: -1px;overflow: hidden;padding: 0;position: absolute;width: 1px;}#sk-container-id-2 div.sk-estimator {font-family: monospace;background-color: #f0f8ff;border: 1px dotted black;border-radius: 0.25em;box-sizing: border-box;margin-bottom: 0.5em;}#sk-container-id-2 div.sk-estimator:hover {background-color: #d4ebff;}#sk-container-id-2 div.sk-parallel-item::after {content: \"\";width: 100%;border-bottom: 1px solid gray;flex-grow: 1;}#sk-container-id-2 div.sk-label:hover label.sk-toggleable__label {background-color: #d4ebff;}#sk-container-id-2 div.sk-serial::before {content: \"\";position: absolute;border-left: 1px solid gray;box-sizing: border-box;top: 0;bottom: 0;left: 50%;z-index: 0;}#sk-container-id-2 div.sk-serial {display: flex;flex-direction: column;align-items: center;background-color: white;padding-right: 0.2em;padding-left: 0.2em;position: relative;}#sk-container-id-2 div.sk-item {position: relative;z-index: 1;}#sk-container-id-2 div.sk-parallel {display: flex;align-items: stretch;justify-content: center;background-color: white;position: relative;}#sk-container-id-2 div.sk-item::before, #sk-container-id-2 div.sk-parallel-item::before {content: \"\";position: absolute;border-left: 1px solid gray;box-sizing: border-box;top: 0;bottom: 0;left: 50%;z-index: -1;}#sk-container-id-2 div.sk-parallel-item {display: flex;flex-direction: column;z-index: 1;position: relative;background-color: white;}#sk-container-id-2 div.sk-parallel-item:first-child::after {align-self: flex-end;width: 50%;}#sk-container-id-2 div.sk-parallel-item:last-child::after {align-self: flex-start;width: 50%;}#sk-container-id-2 div.sk-parallel-item:only-child::after {width: 0;}#sk-container-id-2 div.sk-dashed-wrapped {border: 1px dashed gray;margin: 0 0.4em 0.5em 0.4em;box-sizing: border-box;padding-bottom: 0.4em;background-color: white;}#sk-container-id-2 div.sk-label label {font-family: monospace;font-weight: bold;display: inline-block;line-height: 1.2em;}#sk-container-id-2 div.sk-label-container {text-align: center;}#sk-container-id-2 div.sk-container {/* jupyter's `normalize.less` sets `[hidden] { display: none; }` but bootstrap.min.css set `[hidden] { display: none !important; }` so we also need the `!important` here to be able to override the default hidden behavior on the sphinx rendered scikit-learn.org. See: https://github.com/scikit-learn/scikit-learn/issues/21755 */display: inline-block !important;position: relative;}#sk-container-id-2 div.sk-text-repr-fallback {display: none;}</style><div id=\"sk-container-id-2\" class=\"sk-top-container\"><div class=\"sk-text-repr-fallback\"><pre>GridSearchCV(cv=3, estimator=RandomForestClassifier(random_state=30), n_jobs=-1,\n",
              "             param_grid={&#x27;class_weight&#x27;: [{0: 0.2, 1: 0.8}, {0: 0.3, 1: 0.7}],\n",
              "                         &#x27;max_features&#x27;: [20, 30],\n",
              "                         &#x27;min_samples_split&#x27;: [20, 25],\n",
              "                         &#x27;n_estimators&#x27;: [125, 150]},\n",
              "             scoring=&#x27;recall&#x27;)</pre><b>In a Jupyter environment, please rerun this cell to show the HTML representation or trust the notebook. <br />On GitHub, the HTML representation is unable to render, please try loading this page with nbviewer.org.</b></div><div class=\"sk-container\" hidden><div class=\"sk-item sk-dashed-wrapped\"><div class=\"sk-label-container\"><div class=\"sk-label sk-toggleable\"><input class=\"sk-toggleable__control sk-hidden--visually\" id=\"sk-estimator-id-5\" type=\"checkbox\" ><label for=\"sk-estimator-id-5\" class=\"sk-toggleable__label sk-toggleable__label-arrow\">GridSearchCV</label><div class=\"sk-toggleable__content\"><pre>GridSearchCV(cv=3, estimator=RandomForestClassifier(random_state=30), n_jobs=-1,\n",
              "             param_grid={&#x27;class_weight&#x27;: [{0: 0.2, 1: 0.8}, {0: 0.3, 1: 0.7}],\n",
              "                         &#x27;max_features&#x27;: [20, 30],\n",
              "                         &#x27;min_samples_split&#x27;: [20, 25],\n",
              "                         &#x27;n_estimators&#x27;: [125, 150]},\n",
              "             scoring=&#x27;recall&#x27;)</pre></div></div></div><div class=\"sk-parallel\"><div class=\"sk-parallel-item\"><div class=\"sk-item\"><div class=\"sk-label-container\"><div class=\"sk-label sk-toggleable\"><input class=\"sk-toggleable__control sk-hidden--visually\" id=\"sk-estimator-id-6\" type=\"checkbox\" ><label for=\"sk-estimator-id-6\" class=\"sk-toggleable__label sk-toggleable__label-arrow\">estimator: RandomForestClassifier</label><div class=\"sk-toggleable__content\"><pre>RandomForestClassifier(random_state=30)</pre></div></div></div><div class=\"sk-serial\"><div class=\"sk-item\"><div class=\"sk-estimator sk-toggleable\"><input class=\"sk-toggleable__control sk-hidden--visually\" id=\"sk-estimator-id-7\" type=\"checkbox\" ><label for=\"sk-estimator-id-7\" class=\"sk-toggleable__label sk-toggleable__label-arrow\">RandomForestClassifier</label><div class=\"sk-toggleable__content\"><pre>RandomForestClassifier(random_state=30)</pre></div></div></div></div></div></div></div></div></div></div>"
            ]
          },
          "metadata": {},
          "execution_count": 12
        }
      ]
    },
    {
      "cell_type": "code",
      "source": [
        "print(\"Best parameters: {}\".format(RF_grid_search.best_params_))\n",
        "print(\"Best cross-validation average recall score: {:.3f}\".format(RF_grid_search.best_score_))"
      ],
      "metadata": {
        "id": "k_fFVF1LWJZZ",
        "outputId": "7067d553-003a-408a-82b2-0c23a3e00697",
        "colab": {
          "base_uri": "https://localhost:8080/"
        }
      },
      "execution_count": 13,
      "outputs": [
        {
          "output_type": "stream",
          "name": "stdout",
          "text": [
            "Best parameters: {'class_weight': {0: 0.2, 1: 0.8}, 'max_features': 20, 'min_samples_split': 25, 'n_estimators': 125}\n",
            "Best cross-validation average recall score: 0.980\n"
          ]
        }
      ]
    },
    {
      "cell_type": "markdown",
      "source": [
        "---"
      ],
      "metadata": {
        "id": "_zu7iaT8AANM"
      }
    },
    {
      "cell_type": "markdown",
      "source": [
        "---\n",
        "## Question 7: Evaluate the Random Forest model on both the training and test sets. Use the `plot_confusion_matrix(confusion_matrix)` function provided above to display the results.\n",
        "---"
      ],
      "metadata": {
        "id": "xwh91teY3VgL"
      }
    },
    {
      "cell_type": "markdown",
      "source": [
        "<b> Rationale: Why are we evaluating the model in the training set? Why are we evaluating the model in the test set? What are you doing to solve this question?- 120 word count limit:</b>\n",
        "\n",
        "################################################################################\n",
        "\n",
        "The training set is the data that the model has been exposed to during the training process. Evaluating the model on the training set helps to assess how well the model has learned from the data. However, a high accuracy on the training set does not guarantee good performance on unseen data (test set) and may indicate potential overfitting. The test set is a separate set of data that the model has not seen during training. It helps to assess how well the model generalizes to new data. To evaluate the model, we'll make prediction on train and test set using the best model from grid search. Confusion matrices and classification report showing precision, recall, accuracy, and F1 score are used to assess the performance of the model.\n",
        "\n",
        "\n",
        "################################################################################"
      ],
      "metadata": {
        "id": "hiHbV8Sf3VgT"
      }
    },
    {
      "cell_type": "code",
      "source": [
        "# Python code here (10 lines limit, and 2 cells limit)\n",
        "# Generate predictions for train data based on the model with best parameters (based on accuracy)generated by GridSearchCV\n",
        "y_train_pred_RF = RF_grid_search.predict(X_train)\n",
        "\n",
        "# Generate confusion matrix for evaluation\n",
        "confusion_RF_train = confusion_matrix(y_train, y_train_pred_RF)\n",
        "\n",
        "# Visualising the confusion matrix:\n",
        "plot_confusion_matrix(confusion_RF_train)\n",
        "\n",
        "# Output results from precision, recall, accuracy and f1 score\n",
        "print(\"Classification Report - Training Set:\\n\", classification_report(y_train, y_train_pred_RF))"
      ],
      "metadata": {
        "id": "pxU0SF6KX6lO",
        "outputId": "199b99e3-ffb1-424c-9fb7-32cf5e1aad26",
        "colab": {
          "base_uri": "https://localhost:8080/",
          "height": 646
        }
      },
      "execution_count": 14,
      "outputs": [
        {
          "output_type": "stream",
          "name": "stdout",
          "text": [
            "Classification Report - Training Set:\n",
            "               precision    recall  f1-score   support\n",
            "\n",
            "           0       1.00      0.98      0.99     45878\n",
            "           1       0.92      1.00      0.96      9535\n",
            "\n",
            "    accuracy                           0.98     55413\n",
            "   macro avg       0.96      0.99      0.97     55413\n",
            "weighted avg       0.99      0.98      0.98     55413\n",
            "\n"
          ]
        },
        {
          "output_type": "display_data",
          "data": {
            "text/plain": [
              "<Figure size 640x480 with 2 Axes>"
            ],
            "image/png": "[encoded data removed]"
          },
          "metadata": {}
        }
      ]
    },
    {
      "cell_type": "code",
      "source": [
        "# Generate predictions for test data based on the model with best parameters (based on accuracy)generated by GridSearchCV\n",
        "y_test_pred_RF = RF_grid_search.predict(X_test)\n",
        "\n",
        "# Generate confusion matrix for evaluation\n",
        "confusion_RF_test = confusion_matrix(y_test, y_test_pred_RF)\n",
        "\n",
        "# Visualising the confusion matrix:\n",
        "plot_confusion_matrix(confusion_RF_test)\n",
        "\n",
        "# Output results from precision, recall, accuracy and f1 score\n",
        "print(\"Classification Report - Test Set:\\n\", classification_report(y_test, y_test_pred_RF))\n"
      ],
      "metadata": {
        "id": "HG0zxUneX90J",
        "outputId": "c2e5571f-bf0f-4fc5-f06e-21494cee123d",
        "colab": {
          "base_uri": "https://localhost:8080/",
          "height": 646
        }
      },
      "execution_count": 15,
      "outputs": [
        {
          "output_type": "stream",
          "name": "stdout",
          "text": [
            "Classification Report - Test Set:\n",
            "               precision    recall  f1-score   support\n",
            "\n",
            "           0       1.00      0.97      0.99     11470\n",
            "           1       0.89      0.98      0.93      2384\n",
            "\n",
            "    accuracy                           0.98     13854\n",
            "   macro avg       0.94      0.98      0.96     13854\n",
            "weighted avg       0.98      0.98      0.98     13854\n",
            "\n"
          ]
        },
        {
          "output_type": "display_data",
          "data": {
            "text/plain": [
              "<Figure size 640x480 with 2 Axes>"
            ],
            "image/png": "[encoded data removed]"
          },
          "metadata": {}
        }
      ]
    },
    {
      "cell_type": "markdown",
      "source": [
        "\n",
        "\n",
        "---\n",
        "\n"
      ],
      "metadata": {
        "id": "4CsbaxoQ3VgU"
      }
    },
    {
      "cell_type": "markdown",
      "source": [
        "---\n",
        "## Question 8: Based on the research questions and instructions, determine which model, if any, you would choose. Justify whether or not you would deploy this model.\n",
        "---"
      ],
      "metadata": {
        "id": "eMBZph5HA6AN"
      }
    },
    {
      "cell_type": "markdown",
      "source": [
        "<b> Rationale: 350 word count limit </b>\n",
        "\n",
        "################################################################################\n",
        "\n",
        "The Logistic Regression model has an impressive performance, with an accuracy of 97% on the test set. It achieved a precision of 0.89, meaning 89% of the predicted at-risk patients were correctly classified. The recall (Sensitivity) was 0.96, indicating that the model correctly identified 96% of the patients actually at risk of readmission. The F1-score for class 1 was 0.92, providing a balanced measure of the model's performance. On the other hand, the Random Forest model demonstrated even better results, with an accuracy of 98% on the test set. Its precision for class 1 was 0.89, correctly classifying 89% of the predicted at-risk patients. The recall was 0.98, indicating that the model successfully identified 98% of the patients truly at risk of readmission. The F1-score for class 1 was 0.93, providing a robust evaluation metric for this class.\n",
        "\n",
        "Given the hospital's objective of capturing as many \"readmissions\" as possible (true positives) while being mindful of operational costs, the Random Forest model seems to be a better choice. It has a higher recall (98%) for class 1, meaning it can better identify patients at risk of readmission. The higher recall ensures that the model is effective in capturing most of the at-risk patients, which aligns with the hospital's objective.\n",
        "\n",
        "Regarding deploying the model, since the Random Forest model has demonstrated good performance, it could be a suitable candidate for deployment in the hospital. Furthermore, based on the cost of misclassifying patients, the Random Forest has lower number of false negative compared to Logistic Regression model (44 cases vs. 106 cases), which might lead to lower cost for hospital. Therefore decision is to deploy the choosen model. The cost for deploying Random Forest model is calculated below.\n",
        "\n",
        "\n",
        "\n",
        "################################################################################"
      ],
      "metadata": {
        "id": "AXP5G5nrA6AO"
      }
    },
    {
      "cell_type": "code",
      "source": [
        "# Python code here (10 lines limit, and 2 cells limit)\n",
        "\n",
        "# Define constant and variable\n",
        "average_cost_per_day = 6000\n",
        "average_length_of_stay = 4\n",
        "average_cost_of_intervention = 2000\n",
        "average_number_of_visits_per_patient = 5\n",
        "number_of_false_negative = confusion_RF_test[1,0]\n",
        "\n",
        "# Calculate cost for false negative to readmission\n",
        "cost_for_readmitted = average_cost_per_day * average_length_of_stay * number_of_false_negative\n",
        "\n",
        "print(\"Cost for false negative to readmission: ${:,.2f}\".format(cost_for_readmitted))\n",
        "\n",
        "# Calculate cost for false negative with interventions\n",
        "cost_for_interventions = average_cost_of_intervention * average_number_of_visits_per_patient * number_of_false_negative\n",
        "\n",
        "print(\"Cost for false negative with interventions: ${:,.2f}\".format(cost_for_interventions))\n"
      ],
      "metadata": {
        "id": "heyMLNJtA6AO",
        "colab": {
          "base_uri": "https://localhost:8080/"
        },
        "outputId": "b0bd12b6-9c93-423e-ed6b-3cd0c4529f64"
      },
      "execution_count": 16,
      "outputs": [
        {
          "output_type": "stream",
          "name": "stdout",
          "text": [
            "Cost for false negative to readmission: $1,056,000.00\n",
            "Cost for false negative with interventions: $440,000.00\n"
          ]
        }
      ]
    },
    {
      "cell_type": "markdown",
      "source": [
        "\n",
        "\n",
        "---\n",
        "\n"
      ],
      "metadata": {
        "id": "l63_Jk0mA6AP"
      }
    },
    {
      "cell_type": "markdown",
      "source": [
        "---\n",
        "## Question 9:  Implement SHAP for the final model and describe your observations. If no model was selected in question 8, provide a justification and choose one model specifically for this SHAP analysis. Conclude by commenting on the results.\n",
        "---"
      ],
      "metadata": {
        "id": "u0Wb9iHWASdT"
      }
    },
    {
      "cell_type": "markdown",
      "source": [
        "<b> Explanation of what you observe - 250 word count limit:</b>\n",
        "\n",
        "################################################################################\n",
        "\n",
        "The SHAP analysis revealed that the length of stay has the most significant impact on predicting readmission probability, with a high SHAP value of approximately 0.7. Number of outpatient visits and the admission type \"emergency\" also has notable importance, however, these weights are less than 0.1. Features with higher SHAP values indicate that the model used information from these features more than others - these were prioritised to inform the model results of whether a patient is predicted as being highly likely to be  readmitted.\n",
        "\n",
        "Moreover, the number of diagnoses are influential factors, with SHAP values ranked in fourth place. Patients with a higher number of diagnoses may have underlying health issues that increase the likelihood of readmission.\n",
        "\n",
        "In addition to exaplaining to the unit how the predictions were arrived at, SHAP outputs motivate ensuring that patients records are up to date - there should be no missing values - for these features, otherwise if they are missing, the model is likely to predict with a lot of uncertainty.\n",
        "\n",
        "################################################################################"
      ],
      "metadata": {
        "id": "1IlYvZ83ASda"
      }
    },
    {
      "cell_type": "code",
      "source": [
        "# Python code here (10 lines limit, and 2 cells limit)\n",
        "# Using SHAP to explain predictions\n",
        "explainer = shap.TreeExplainer(RF_grid_search.best_estimator_.fit(X_test, y_test))\n",
        "shap_values_test = explainer.shap_values(X_test)\n",
        "\n",
        "# Summary plot - SHAP\n",
        "shap.summary_plot(shap_values_test, X_test, feature_names = X_test.columns)\n"
      ],
      "metadata": {
        "id": "wh2VJms9ASda",
        "colab": {
          "base_uri": "https://localhost:8080/",
          "height": 957
        },
        "outputId": "78611b82-904e-4b31-9a72-1a679d239dd2"
      },
      "execution_count": 17,
      "outputs": [
        {
          "output_type": "display_data",
          "data": {
            "text/plain": [
              "<Figure size 800x950 with 1 Axes>"
            ],
            "image/png": "[encoded data removed]"
          },
          "metadata": {}
        }
      ]
    },
    {
      "cell_type": "markdown",
      "source": [
        "\n",
        "\n",
        "---\n",
        "\n"
      ],
      "metadata": {
        "id": "hrD9unXPAZQL"
      }
    },
    {
      "cell_type": "markdown",
      "metadata": {
        "id": "TYOVWp4ViKQq"
      },
      "source": [
        "© 2023 Copyright The University of New South Wales - CRICOS 00098G"
      ]
    }
  ],
  "metadata": {
    "colab": {
      "name": "Final-Assignment-Name-Surname.ipynb",
      "provenance": [],
      "collapsed_sections": [
        "IbpJocChpcTR",
        "PRlUipB2-nMX",
        "b3v2JXmp1o5W",
        "y2BLfWf9NmWf",
        "iTQtpo_8yvX3",
        "xwh91teY3VgL",
        "eMBZph5HA6AN",
        "u0Wb9iHWASdT"
      ],
      "include_colab_link": true
    },
    "interpreter": {
      "hash": "aee8b7b246df8f9039afb4144a1f6fd8d2ca17a180786b69acc140d282b71a49"
    },
    "kernelspec": {
      "display_name": "Python 3.7.4 64-bit",
      "language": "python",
      "name": "python3"
    },
    "language_info": {
      "codemirror_mode": {
        "name": "ipython",
        "version": 3
      },
      "file_extension": ".py",
      "mimetype": "text/x-python",
      "name": "python",
      "nbconvert_exporter": "python",
      "pygments_lexer": "ipython3",
      "version": "3.7.4"
    }
  },
  "nbformat": 4,
  "nbformat_minor": 0
}